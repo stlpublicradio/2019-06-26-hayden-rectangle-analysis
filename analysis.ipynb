{
 "cells": [
  {
   "cell_type": "code",
   "execution_count": 1,
   "metadata": {},
   "outputs": [
    {
     "name": "stderr",
     "output_type": "stream",
     "text": [
      "/Users/brentjones/anaconda/envs/2019-06-26-hayden/lib/python3.6/importlib/_bootstrap.py:205: RuntimeWarning: numpy.ufunc size changed, may indicate binary incompatibility. Expected 216, got 192\n",
      "/Users/brentjones/anaconda/envs/2019-06-26-hayden/lib/python3.6/importlib/_bootstrap.py:205: RuntimeWarning: numpy.ufunc size changed, may indicate binary incompatibility. Expected 216, got 192\n",
      "/Users/brentjones/anaconda/envs/2019-06-26-hayden/lib/python3.6/importlib/_bootstrap.py:205: RuntimeWarning: numpy.ufunc size changed, may indicate binary incompatibility. Expected 216, got 192\n",
      "/Users/brentjones/anaconda/envs/2019-06-26-hayden/lib/python3.6/importlib/_bootstrap.py:205: ImportWarning: can't resolve package from __spec__ or __package__, falling back on __name__ and __path__\n",
      "/Users/brentjones/anaconda/envs/2019-06-26-hayden/lib/python3.6/importlib/_bootstrap.py:205: RuntimeWarning: numpy.ufunc size changed, may indicate binary incompatibility. Expected 216, got 192\n",
      "/Users/brentjones/anaconda/envs/2019-06-26-hayden/lib/python3.6/importlib/_bootstrap.py:205: RuntimeWarning: numpy.ufunc size changed, may indicate binary incompatibility. Expected 216, got 192\n",
      "/Users/brentjones/anaconda/envs/2019-06-26-hayden/lib/python3.6/importlib/_bootstrap.py:205: RuntimeWarning: numpy.ufunc size changed, may indicate binary incompatibility. Expected 216, got 192\n",
      "/Users/brentjones/anaconda/envs/2019-06-26-hayden/lib/python3.6/importlib/_bootstrap.py:205: ImportWarning: can't resolve package from __spec__ or __package__, falling back on __name__ and __path__\n",
      "/Users/brentjones/anaconda/envs/2019-06-26-hayden/lib/python3.6/importlib/_bootstrap.py:205: ImportWarning: can't resolve package from __spec__ or __package__, falling back on __name__ and __path__\n",
      "/Users/brentjones/anaconda/envs/2019-06-26-hayden/lib/python3.6/importlib/_bootstrap.py:205: RuntimeWarning: numpy.ufunc size changed, may indicate binary incompatibility. Expected 216, got 192\n",
      "/Users/brentjones/anaconda/envs/2019-06-26-hayden/lib/python3.6/importlib/_bootstrap.py:205: ImportWarning: can't resolve package from __spec__ or __package__, falling back on __name__ and __path__\n",
      "/Users/brentjones/anaconda/envs/2019-06-26-hayden/lib/python3.6/importlib/_bootstrap.py:205: ImportWarning: can't resolve package from __spec__ or __package__, falling back on __name__ and __path__\n",
      "/Users/brentjones/anaconda/envs/2019-06-26-hayden/lib/python3.6/importlib/_bootstrap.py:205: ImportWarning: can't resolve package from __spec__ or __package__, falling back on __name__ and __path__\n",
      "/Users/brentjones/anaconda/envs/2019-06-26-hayden/lib/python3.6/importlib/_bootstrap.py:205: ImportWarning: can't resolve package from __spec__ or __package__, falling back on __name__ and __path__\n",
      "/Users/brentjones/anaconda/envs/2019-06-26-hayden/lib/python3.6/importlib/_bootstrap.py:205: ImportWarning: can't resolve package from __spec__ or __package__, falling back on __name__ and __path__\n",
      "/Users/brentjones/anaconda/envs/2019-06-26-hayden/lib/python3.6/importlib/_bootstrap.py:205: ImportWarning: can't resolve package from __spec__ or __package__, falling back on __name__ and __path__\n",
      "/Users/brentjones/anaconda/envs/2019-06-26-hayden/lib/python3.6/importlib/_bootstrap.py:205: ImportWarning: can't resolve package from __spec__ or __package__, falling back on __name__ and __path__\n",
      "/Users/brentjones/anaconda/envs/2019-06-26-hayden/lib/python3.6/importlib/_bootstrap.py:205: ImportWarning: can't resolve package from __spec__ or __package__, falling back on __name__ and __path__\n",
      "/Users/brentjones/anaconda/envs/2019-06-26-hayden/lib/python3.6/importlib/_bootstrap.py:205: ImportWarning: can't resolve package from __spec__ or __package__, falling back on __name__ and __path__\n",
      "/Users/brentjones/anaconda/envs/2019-06-26-hayden/lib/python3.6/importlib/_bootstrap.py:205: ImportWarning: can't resolve package from __spec__ or __package__, falling back on __name__ and __path__\n",
      "/Users/brentjones/anaconda/envs/2019-06-26-hayden/lib/python3.6/importlib/_bootstrap.py:205: ImportWarning: can't resolve package from __spec__ or __package__, falling back on __name__ and __path__\n",
      "/Users/brentjones/anaconda/envs/2019-06-26-hayden/lib/python3.6/importlib/_bootstrap.py:205: ImportWarning: can't resolve package from __spec__ or __package__, falling back on __name__ and __path__\n",
      "/Users/brentjones/anaconda/envs/2019-06-26-hayden/lib/python3.6/importlib/_bootstrap.py:205: ImportWarning: can't resolve package from __spec__ or __package__, falling back on __name__ and __path__\n",
      "/Users/brentjones/anaconda/envs/2019-06-26-hayden/lib/python3.6/importlib/_bootstrap.py:205: ImportWarning: can't resolve package from __spec__ or __package__, falling back on __name__ and __path__\n",
      "/Users/brentjones/anaconda/envs/2019-06-26-hayden/lib/python3.6/importlib/_bootstrap.py:205: ImportWarning: can't resolve package from __spec__ or __package__, falling back on __name__ and __path__\n",
      "/Users/brentjones/anaconda/envs/2019-06-26-hayden/lib/python3.6/importlib/_bootstrap.py:205: RuntimeWarning: numpy.ufunc size changed, may indicate binary incompatibility. Expected 216, got 192\n",
      "/Users/brentjones/anaconda/envs/2019-06-26-hayden/lib/python3.6/importlib/_bootstrap.py:205: ImportWarning: can't resolve package from __spec__ or __package__, falling back on __name__ and __path__\n",
      "/Users/brentjones/anaconda/envs/2019-06-26-hayden/lib/python3.6/importlib/_bootstrap.py:205: ImportWarning: can't resolve package from __spec__ or __package__, falling back on __name__ and __path__\n",
      "/Users/brentjones/anaconda/envs/2019-06-26-hayden/lib/python3.6/importlib/_bootstrap.py:205: ImportWarning: can't resolve package from __spec__ or __package__, falling back on __name__ and __path__\n",
      "/Users/brentjones/anaconda/envs/2019-06-26-hayden/lib/python3.6/importlib/_bootstrap.py:205: ImportWarning: can't resolve package from __spec__ or __package__, falling back on __name__ and __path__\n",
      "/Users/brentjones/anaconda/envs/2019-06-26-hayden/lib/python3.6/importlib/_bootstrap.py:205: ImportWarning: can't resolve package from __spec__ or __package__, falling back on __name__ and __path__\n",
      "/Users/brentjones/anaconda/envs/2019-06-26-hayden/lib/python3.6/importlib/_bootstrap.py:205: ImportWarning: can't resolve package from __spec__ or __package__, falling back on __name__ and __path__\n",
      "/Users/brentjones/anaconda/envs/2019-06-26-hayden/lib/python3.6/importlib/_bootstrap.py:205: ImportWarning: can't resolve package from __spec__ or __package__, falling back on __name__ and __path__\n",
      "/Users/brentjones/anaconda/envs/2019-06-26-hayden/lib/python3.6/importlib/_bootstrap.py:205: ImportWarning: can't resolve package from __spec__ or __package__, falling back on __name__ and __path__\n",
      "/Users/brentjones/anaconda/envs/2019-06-26-hayden/lib/python3.6/importlib/_bootstrap.py:205: ImportWarning: can't resolve package from __spec__ or __package__, falling back on __name__ and __path__\n",
      "/Users/brentjones/anaconda/envs/2019-06-26-hayden/lib/python3.6/importlib/_bootstrap.py:205: ImportWarning: can't resolve package from __spec__ or __package__, falling back on __name__ and __path__\n",
      "/Users/brentjones/anaconda/envs/2019-06-26-hayden/lib/python3.6/importlib/_bootstrap.py:205: ImportWarning: can't resolve package from __spec__ or __package__, falling back on __name__ and __path__\n",
      "/Users/brentjones/anaconda/envs/2019-06-26-hayden/lib/python3.6/importlib/_bootstrap.py:205: ImportWarning: can't resolve package from __spec__ or __package__, falling back on __name__ and __path__\n",
      "/Users/brentjones/anaconda/envs/2019-06-26-hayden/lib/python3.6/importlib/_bootstrap.py:205: ImportWarning: can't resolve package from __spec__ or __package__, falling back on __name__ and __path__\n",
      "/Users/brentjones/anaconda/envs/2019-06-26-hayden/lib/python3.6/importlib/_bootstrap.py:205: ImportWarning: can't resolve package from __spec__ or __package__, falling back on __name__ and __path__\n",
      "/Users/brentjones/anaconda/envs/2019-06-26-hayden/lib/python3.6/importlib/_bootstrap.py:205: ImportWarning: can't resolve package from __spec__ or __package__, falling back on __name__ and __path__\n",
      "/Users/brentjones/anaconda/envs/2019-06-26-hayden/lib/python3.6/importlib/_bootstrap.py:205: ImportWarning: can't resolve package from __spec__ or __package__, falling back on __name__ and __path__\n",
      "/Users/brentjones/anaconda/envs/2019-06-26-hayden/lib/python3.6/importlib/_bootstrap.py:205: ImportWarning: can't resolve package from __spec__ or __package__, falling back on __name__ and __path__\n",
      "/Users/brentjones/anaconda/envs/2019-06-26-hayden/lib/python3.6/importlib/_bootstrap.py:205: ImportWarning: can't resolve package from __spec__ or __package__, falling back on __name__ and __path__\n",
      "/Users/brentjones/anaconda/envs/2019-06-26-hayden/lib/python3.6/importlib/_bootstrap.py:205: ImportWarning: can't resolve package from __spec__ or __package__, falling back on __name__ and __path__\n",
      "/Users/brentjones/anaconda/envs/2019-06-26-hayden/lib/python3.6/importlib/_bootstrap.py:205: ImportWarning: can't resolve package from __spec__ or __package__, falling back on __name__ and __path__\n",
      "/Users/brentjones/anaconda/envs/2019-06-26-hayden/lib/python3.6/importlib/_bootstrap.py:205: ImportWarning: can't resolve package from __spec__ or __package__, falling back on __name__ and __path__\n",
      "/Users/brentjones/anaconda/envs/2019-06-26-hayden/lib/python3.6/importlib/_bootstrap.py:205: ImportWarning: can't resolve package from __spec__ or __package__, falling back on __name__ and __path__\n",
      "/Users/brentjones/anaconda/envs/2019-06-26-hayden/lib/python3.6/importlib/_bootstrap.py:205: ImportWarning: can't resolve package from __spec__ or __package__, falling back on __name__ and __path__\n",
      "/Users/brentjones/anaconda/envs/2019-06-26-hayden/lib/python3.6/importlib/_bootstrap.py:205: ImportWarning: can't resolve package from __spec__ or __package__, falling back on __name__ and __path__\n",
      "/Users/brentjones/anaconda/envs/2019-06-26-hayden/lib/python3.6/importlib/_bootstrap.py:205: ImportWarning: can't resolve package from __spec__ or __package__, falling back on __name__ and __path__\n",
      "/Users/brentjones/anaconda/envs/2019-06-26-hayden/lib/python3.6/importlib/_bootstrap.py:205: ImportWarning: can't resolve package from __spec__ or __package__, falling back on __name__ and __path__\n",
      "/Users/brentjones/anaconda/envs/2019-06-26-hayden/lib/python3.6/importlib/_bootstrap.py:205: ImportWarning: can't resolve package from __spec__ or __package__, falling back on __name__ and __path__\n",
      "/Users/brentjones/anaconda/envs/2019-06-26-hayden/lib/python3.6/importlib/_bootstrap.py:205: ImportWarning: can't resolve package from __spec__ or __package__, falling back on __name__ and __path__\n",
      "/Users/brentjones/anaconda/envs/2019-06-26-hayden/lib/python3.6/importlib/_bootstrap.py:205: ImportWarning: can't resolve package from __spec__ or __package__, falling back on __name__ and __path__\n",
      "/Users/brentjones/anaconda/envs/2019-06-26-hayden/lib/python3.6/importlib/_bootstrap.py:205: ImportWarning: can't resolve package from __spec__ or __package__, falling back on __name__ and __path__\n",
      "/Users/brentjones/anaconda/envs/2019-06-26-hayden/lib/python3.6/importlib/_bootstrap.py:205: ImportWarning: can't resolve package from __spec__ or __package__, falling back on __name__ and __path__\n",
      "/Users/brentjones/anaconda/envs/2019-06-26-hayden/lib/python3.6/importlib/_bootstrap.py:205: ImportWarning: can't resolve package from __spec__ or __package__, falling back on __name__ and __path__\n",
      "/Users/brentjones/anaconda/envs/2019-06-26-hayden/lib/python3.6/importlib/_bootstrap.py:205: ImportWarning: can't resolve package from __spec__ or __package__, falling back on __name__ and __path__\n",
      "/Users/brentjones/anaconda/envs/2019-06-26-hayden/lib/python3.6/importlib/_bootstrap.py:205: ImportWarning: can't resolve package from __spec__ or __package__, falling back on __name__ and __path__\n",
      "/Users/brentjones/anaconda/envs/2019-06-26-hayden/lib/python3.6/importlib/_bootstrap.py:205: ImportWarning: can't resolve package from __spec__ or __package__, falling back on __name__ and __path__\n",
      "/Users/brentjones/anaconda/envs/2019-06-26-hayden/lib/python3.6/importlib/_bootstrap.py:205: RuntimeWarning: numpy.ufunc size changed, may indicate binary incompatibility. Expected 216, got 192\n",
      "/Users/brentjones/anaconda/envs/2019-06-26-hayden/lib/python3.6/importlib/_bootstrap.py:205: RuntimeWarning: numpy.ufunc size changed, may indicate binary incompatibility. Expected 216, got 192\n",
      "/Users/brentjones/anaconda/envs/2019-06-26-hayden/lib/python3.6/importlib/_bootstrap.py:205: ImportWarning: can't resolve package from __spec__ or __package__, falling back on __name__ and __path__\n",
      "/Users/brentjones/anaconda/envs/2019-06-26-hayden/lib/python3.6/importlib/_bootstrap.py:205: ImportWarning: can't resolve package from __spec__ or __package__, falling back on __name__ and __path__\n",
      "/Users/brentjones/anaconda/envs/2019-06-26-hayden/lib/python3.6/importlib/_bootstrap.py:205: ImportWarning: can't resolve package from __spec__ or __package__, falling back on __name__ and __path__\n",
      "/Users/brentjones/anaconda/envs/2019-06-26-hayden/lib/python3.6/importlib/_bootstrap.py:205: ImportWarning: can't resolve package from __spec__ or __package__, falling back on __name__ and __path__\n",
      "/Users/brentjones/anaconda/envs/2019-06-26-hayden/lib/python3.6/importlib/_bootstrap.py:205: ImportWarning: can't resolve package from __spec__ or __package__, falling back on __name__ and __path__\n",
      "/Users/brentjones/anaconda/envs/2019-06-26-hayden/lib/python3.6/importlib/_bootstrap.py:205: RuntimeWarning: numpy.ufunc size changed, may indicate binary incompatibility. Expected 216, got 192\n",
      "/Users/brentjones/anaconda/envs/2019-06-26-hayden/lib/python3.6/importlib/_bootstrap.py:205: ImportWarning: can't resolve package from __spec__ or __package__, falling back on __name__ and __path__\n",
      "/Users/brentjones/anaconda/envs/2019-06-26-hayden/lib/python3.6/importlib/_bootstrap.py:205: ImportWarning: can't resolve package from __spec__ or __package__, falling back on __name__ and __path__\n",
      "/Users/brentjones/anaconda/envs/2019-06-26-hayden/lib/python3.6/importlib/_bootstrap.py:205: ImportWarning: can't resolve package from __spec__ or __package__, falling back on __name__ and __path__\n",
      "/Users/brentjones/anaconda/envs/2019-06-26-hayden/lib/python3.6/importlib/_bootstrap.py:205: ImportWarning: can't resolve package from __spec__ or __package__, falling back on __name__ and __path__\n",
      "/Users/brentjones/anaconda/envs/2019-06-26-hayden/lib/python3.6/importlib/_bootstrap.py:205: ImportWarning: can't resolve package from __spec__ or __package__, falling back on __name__ and __path__\n",
      "/Users/brentjones/anaconda/envs/2019-06-26-hayden/lib/python3.6/importlib/_bootstrap.py:205: ImportWarning: can't resolve package from __spec__ or __package__, falling back on __name__ and __path__\n",
      "/Users/brentjones/anaconda/envs/2019-06-26-hayden/lib/python3.6/importlib/_bootstrap.py:205: RuntimeWarning: numpy.ufunc size changed, may indicate binary incompatibility. Expected 216, got 192\n",
      "/Users/brentjones/anaconda/envs/2019-06-26-hayden/lib/python3.6/importlib/_bootstrap.py:205: ImportWarning: can't resolve package from __spec__ or __package__, falling back on __name__ and __path__\n",
      "/Users/brentjones/anaconda/envs/2019-06-26-hayden/lib/python3.6/importlib/_bootstrap.py:205: ImportWarning: can't resolve package from __spec__ or __package__, falling back on __name__ and __path__\n",
      "/Users/brentjones/anaconda/envs/2019-06-26-hayden/lib/python3.6/importlib/_bootstrap.py:205: ImportWarning: can't resolve package from __spec__ or __package__, falling back on __name__ and __path__\n",
      "/Users/brentjones/anaconda/envs/2019-06-26-hayden/lib/python3.6/importlib/_bootstrap.py:205: ImportWarning: can't resolve package from __spec__ or __package__, falling back on __name__ and __path__\n",
      "/Users/brentjones/anaconda/envs/2019-06-26-hayden/lib/python3.6/importlib/_bootstrap.py:205: ImportWarning: can't resolve package from __spec__ or __package__, falling back on __name__ and __path__\n",
      "/Users/brentjones/anaconda/envs/2019-06-26-hayden/lib/python3.6/importlib/_bootstrap.py:205: ImportWarning: can't resolve package from __spec__ or __package__, falling back on __name__ and __path__\n",
      "/Users/brentjones/anaconda/envs/2019-06-26-hayden/lib/python3.6/importlib/_bootstrap.py:205: ImportWarning: can't resolve package from __spec__ or __package__, falling back on __name__ and __path__\n",
      "/Users/brentjones/anaconda/envs/2019-06-26-hayden/lib/python3.6/importlib/_bootstrap.py:205: ImportWarning: can't resolve package from __spec__ or __package__, falling back on __name__ and __path__\n",
      "/Users/brentjones/anaconda/envs/2019-06-26-hayden/lib/python3.6/importlib/_bootstrap.py:205: ImportWarning: can't resolve package from __spec__ or __package__, falling back on __name__ and __path__\n",
      "/Users/brentjones/anaconda/envs/2019-06-26-hayden/lib/python3.6/importlib/_bootstrap.py:205: ImportWarning: can't resolve package from __spec__ or __package__, falling back on __name__ and __path__\n",
      "/Users/brentjones/anaconda/envs/2019-06-26-hayden/lib/python3.6/importlib/_bootstrap.py:205: RuntimeWarning: numpy.ufunc size changed, may indicate binary incompatibility. Expected 216, got 192\n",
      "/Users/brentjones/anaconda/envs/2019-06-26-hayden/lib/python3.6/importlib/_bootstrap.py:205: ImportWarning: can't resolve package from __spec__ or __package__, falling back on __name__ and __path__\n",
      "/Users/brentjones/anaconda/envs/2019-06-26-hayden/lib/python3.6/importlib/_bootstrap.py:205: ImportWarning: can't resolve package from __spec__ or __package__, falling back on __name__ and __path__\n",
      "/Users/brentjones/anaconda/envs/2019-06-26-hayden/lib/python3.6/importlib/_bootstrap.py:205: ImportWarning: can't resolve package from __spec__ or __package__, falling back on __name__ and __path__\n",
      "/Users/brentjones/anaconda/envs/2019-06-26-hayden/lib/python3.6/importlib/_bootstrap.py:205: RuntimeWarning: numpy.ufunc size changed, may indicate binary incompatibility. Expected 216, got 192\n",
      "/Users/brentjones/anaconda/envs/2019-06-26-hayden/lib/python3.6/importlib/_bootstrap.py:205: RuntimeWarning: numpy.ufunc size changed, may indicate binary incompatibility. Expected 216, got 192\n",
      "/Users/brentjones/anaconda/envs/2019-06-26-hayden/lib/python3.6/importlib/_bootstrap.py:205: ImportWarning: can't resolve package from __spec__ or __package__, falling back on __name__ and __path__\n",
      "/Users/brentjones/anaconda/envs/2019-06-26-hayden/lib/python3.6/importlib/_bootstrap.py:205: ImportWarning: can't resolve package from __spec__ or __package__, falling back on __name__ and __path__\n",
      "/Users/brentjones/anaconda/envs/2019-06-26-hayden/lib/python3.6/importlib/_bootstrap.py:205: RuntimeWarning: numpy.ufunc size changed, may indicate binary incompatibility. Expected 216, got 192\n",
      "/Users/brentjones/anaconda/envs/2019-06-26-hayden/lib/python3.6/importlib/_bootstrap.py:205: ImportWarning: can't resolve package from __spec__ or __package__, falling back on __name__ and __path__\n",
      "/Users/brentjones/anaconda/envs/2019-06-26-hayden/lib/python3.6/importlib/_bootstrap.py:205: ImportWarning: can't resolve package from __spec__ or __package__, falling back on __name__ and __path__\n",
      "/Users/brentjones/anaconda/envs/2019-06-26-hayden/lib/python3.6/importlib/_bootstrap.py:205: ImportWarning: can't resolve package from __spec__ or __package__, falling back on __name__ and __path__\n",
      "/Users/brentjones/anaconda/envs/2019-06-26-hayden/lib/python3.6/importlib/_bootstrap.py:205: ImportWarning: can't resolve package from __spec__ or __package__, falling back on __name__ and __path__\n",
      "/Users/brentjones/anaconda/envs/2019-06-26-hayden/lib/python3.6/importlib/_bootstrap.py:205: ImportWarning: can't resolve package from __spec__ or __package__, falling back on __name__ and __path__\n",
      "/Users/brentjones/anaconda/envs/2019-06-26-hayden/lib/python3.6/importlib/_bootstrap.py:205: ImportWarning: can't resolve package from __spec__ or __package__, falling back on __name__ and __path__\n",
      "/Users/brentjones/anaconda/envs/2019-06-26-hayden/lib/python3.6/importlib/_bootstrap.py:205: ImportWarning: can't resolve package from __spec__ or __package__, falling back on __name__ and __path__\n",
      "/Users/brentjones/anaconda/envs/2019-06-26-hayden/lib/python3.6/importlib/_bootstrap.py:205: RuntimeWarning: numpy.ufunc size changed, may indicate binary incompatibility. Expected 216, got 192\n",
      "/Users/brentjones/anaconda/envs/2019-06-26-hayden/lib/python3.6/importlib/_bootstrap.py:205: ImportWarning: can't resolve package from __spec__ or __package__, falling back on __name__ and __path__\n",
      "/Users/brentjones/anaconda/envs/2019-06-26-hayden/lib/python3.6/importlib/_bootstrap.py:205: ImportWarning: can't resolve package from __spec__ or __package__, falling back on __name__ and __path__\n",
      "/Users/brentjones/anaconda/envs/2019-06-26-hayden/lib/python3.6/importlib/_bootstrap.py:205: ImportWarning: can't resolve package from __spec__ or __package__, falling back on __name__ and __path__\n",
      "/Users/brentjones/anaconda/envs/2019-06-26-hayden/lib/python3.6/importlib/_bootstrap.py:205: ImportWarning: can't resolve package from __spec__ or __package__, falling back on __name__ and __path__\n",
      "/Users/brentjones/anaconda/envs/2019-06-26-hayden/lib/python3.6/importlib/_bootstrap.py:205: ImportWarning: can't resolve package from __spec__ or __package__, falling back on __name__ and __path__\n",
      "/Users/brentjones/anaconda/envs/2019-06-26-hayden/lib/python3.6/importlib/_bootstrap.py:205: ImportWarning: can't resolve package from __spec__ or __package__, falling back on __name__ and __path__\n",
      "/Users/brentjones/anaconda/envs/2019-06-26-hayden/lib/python3.6/importlib/_bootstrap.py:205: ImportWarning: can't resolve package from __spec__ or __package__, falling back on __name__ and __path__\n",
      "/Users/brentjones/anaconda/envs/2019-06-26-hayden/lib/python3.6/importlib/_bootstrap.py:205: ImportWarning: can't resolve package from __spec__ or __package__, falling back on __name__ and __path__\n",
      "/Users/brentjones/anaconda/envs/2019-06-26-hayden/lib/python3.6/importlib/_bootstrap.py:205: RuntimeWarning: numpy.ufunc size changed, may indicate binary incompatibility. Expected 216, got 192\n",
      "/Users/brentjones/anaconda/envs/2019-06-26-hayden/lib/python3.6/importlib/_bootstrap.py:205: ImportWarning: can't resolve package from __spec__ or __package__, falling back on __name__ and __path__\n",
      "/Users/brentjones/anaconda/envs/2019-06-26-hayden/lib/python3.6/importlib/_bootstrap.py:205: ImportWarning: can't resolve package from __spec__ or __package__, falling back on __name__ and __path__\n",
      "/Users/brentjones/anaconda/envs/2019-06-26-hayden/lib/python3.6/importlib/_bootstrap.py:205: RuntimeWarning: numpy.ufunc size changed, may indicate binary incompatibility. Expected 216, got 192\n",
      "/Users/brentjones/anaconda/envs/2019-06-26-hayden/lib/python3.6/importlib/_bootstrap.py:205: ImportWarning: can't resolve package from __spec__ or __package__, falling back on __name__ and __path__\n",
      "/Users/brentjones/anaconda/envs/2019-06-26-hayden/lib/python3.6/importlib/_bootstrap.py:205: ImportWarning: can't resolve package from __spec__ or __package__, falling back on __name__ and __path__\n",
      "/Users/brentjones/anaconda/envs/2019-06-26-hayden/lib/python3.6/importlib/_bootstrap.py:205: ImportWarning: can't resolve package from __spec__ or __package__, falling back on __name__ and __path__\n",
      "/Users/brentjones/anaconda/envs/2019-06-26-hayden/lib/python3.6/importlib/_bootstrap.py:205: ImportWarning: can't resolve package from __spec__ or __package__, falling back on __name__ and __path__\n",
      "/Users/brentjones/anaconda/envs/2019-06-26-hayden/lib/python3.6/importlib/_bootstrap.py:205: RuntimeWarning: numpy.ufunc size changed, may indicate binary incompatibility. Expected 216, got 192\n",
      "/Users/brentjones/anaconda/envs/2019-06-26-hayden/lib/python3.6/importlib/_bootstrap.py:205: ImportWarning: can't resolve package from __spec__ or __package__, falling back on __name__ and __path__\n",
      "/Users/brentjones/anaconda/envs/2019-06-26-hayden/lib/python3.6/importlib/_bootstrap.py:205: RuntimeWarning: numpy.ufunc size changed, may indicate binary incompatibility. Expected 216, got 192\n",
      "/Users/brentjones/anaconda/envs/2019-06-26-hayden/lib/python3.6/importlib/_bootstrap.py:205: ImportWarning: can't resolve package from __spec__ or __package__, falling back on __name__ and __path__\n",
      "/Users/brentjones/anaconda/envs/2019-06-26-hayden/lib/python3.6/importlib/_bootstrap.py:205: ImportWarning: can't resolve package from __spec__ or __package__, falling back on __name__ and __path__\n",
      "/Users/brentjones/anaconda/envs/2019-06-26-hayden/lib/python3.6/importlib/_bootstrap.py:205: RuntimeWarning: numpy.ufunc size changed, may indicate binary incompatibility. Expected 216, got 192\n",
      "/Users/brentjones/anaconda/envs/2019-06-26-hayden/lib/python3.6/importlib/_bootstrap.py:205: ImportWarning: can't resolve package from __spec__ or __package__, falling back on __name__ and __path__\n",
      "/Users/brentjones/anaconda/envs/2019-06-26-hayden/lib/python3.6/importlib/_bootstrap.py:205: ImportWarning: can't resolve package from __spec__ or __package__, falling back on __name__ and __path__\n",
      "/Users/brentjones/anaconda/envs/2019-06-26-hayden/lib/python3.6/importlib/_bootstrap.py:205: ImportWarning: can't resolve package from __spec__ or __package__, falling back on __name__ and __path__\n",
      "/Users/brentjones/anaconda/envs/2019-06-26-hayden/lib/python3.6/importlib/_bootstrap.py:205: ImportWarning: can't resolve package from __spec__ or __package__, falling back on __name__ and __path__\n",
      "/Users/brentjones/anaconda/envs/2019-06-26-hayden/lib/python3.6/importlib/_bootstrap.py:205: ImportWarning: can't resolve package from __spec__ or __package__, falling back on __name__ and __path__\n",
      "/Users/brentjones/anaconda/envs/2019-06-26-hayden/lib/python3.6/importlib/_bootstrap.py:205: RuntimeWarning: numpy.ufunc size changed, may indicate binary incompatibility. Expected 216, got 192\n",
      "/Users/brentjones/anaconda/envs/2019-06-26-hayden/lib/python3.6/importlib/_bootstrap.py:205: ImportWarning: can't resolve package from __spec__ or __package__, falling back on __name__ and __path__\n",
      "/Users/brentjones/anaconda/envs/2019-06-26-hayden/lib/python3.6/importlib/_bootstrap.py:205: ImportWarning: can't resolve package from __spec__ or __package__, falling back on __name__ and __path__\n",
      "/Users/brentjones/anaconda/envs/2019-06-26-hayden/lib/python3.6/importlib/_bootstrap.py:205: ImportWarning: can't resolve package from __spec__ or __package__, falling back on __name__ and __path__\n",
      "/Users/brentjones/anaconda/envs/2019-06-26-hayden/lib/python3.6/importlib/_bootstrap.py:205: RuntimeWarning: numpy.ufunc size changed, may indicate binary incompatibility. Expected 216, got 192\n",
      "/Users/brentjones/anaconda/envs/2019-06-26-hayden/lib/python3.6/importlib/_bootstrap.py:205: ImportWarning: can't resolve package from __spec__ or __package__, falling back on __name__ and __path__\n",
      "/Users/brentjones/anaconda/envs/2019-06-26-hayden/lib/python3.6/importlib/_bootstrap.py:205: RuntimeWarning: numpy.ufunc size changed, may indicate binary incompatibility. Expected 216, got 192\n",
      "/Users/brentjones/anaconda/envs/2019-06-26-hayden/lib/python3.6/importlib/_bootstrap.py:205: ImportWarning: can't resolve package from __spec__ or __package__, falling back on __name__ and __path__\n",
      "/Users/brentjones/anaconda/envs/2019-06-26-hayden/lib/python3.6/importlib/_bootstrap.py:205: ImportWarning: can't resolve package from __spec__ or __package__, falling back on __name__ and __path__\n",
      "/Users/brentjones/anaconda/envs/2019-06-26-hayden/lib/python3.6/importlib/_bootstrap.py:205: RuntimeWarning: numpy.ufunc size changed, may indicate binary incompatibility. Expected 216, got 192\n",
      "/Users/brentjones/anaconda/envs/2019-06-26-hayden/lib/python3.6/importlib/_bootstrap.py:205: ImportWarning: can't resolve package from __spec__ or __package__, falling back on __name__ and __path__\n",
      "/Users/brentjones/anaconda/envs/2019-06-26-hayden/lib/python3.6/importlib/_bootstrap.py:205: ImportWarning: can't resolve package from __spec__ or __package__, falling back on __name__ and __path__\n",
      "/Users/brentjones/anaconda/envs/2019-06-26-hayden/lib/python3.6/importlib/_bootstrap.py:205: RuntimeWarning: numpy.ufunc size changed, may indicate binary incompatibility. Expected 216, got 192\n",
      "/Users/brentjones/anaconda/envs/2019-06-26-hayden/lib/python3.6/importlib/_bootstrap.py:205: ImportWarning: can't resolve package from __spec__ or __package__, falling back on __name__ and __path__\n",
      "/Users/brentjones/anaconda/envs/2019-06-26-hayden/lib/python3.6/importlib/_bootstrap.py:205: ImportWarning: can't resolve package from __spec__ or __package__, falling back on __name__ and __path__\n",
      "/Users/brentjones/anaconda/envs/2019-06-26-hayden/lib/python3.6/importlib/_bootstrap.py:205: ImportWarning: can't resolve package from __spec__ or __package__, falling back on __name__ and __path__\n",
      "/Users/brentjones/anaconda/envs/2019-06-26-hayden/lib/python3.6/importlib/_bootstrap.py:205: RuntimeWarning: numpy.ufunc size changed, may indicate binary incompatibility. Expected 216, got 192\n",
      "/Users/brentjones/anaconda/envs/2019-06-26-hayden/lib/python3.6/importlib/_bootstrap.py:205: ImportWarning: can't resolve package from __spec__ or __package__, falling back on __name__ and __path__\n",
      "/Users/brentjones/anaconda/envs/2019-06-26-hayden/lib/python3.6/importlib/_bootstrap.py:205: ImportWarning: can't resolve package from __spec__ or __package__, falling back on __name__ and __path__\n",
      "/Users/brentjones/anaconda/envs/2019-06-26-hayden/lib/python3.6/importlib/_bootstrap.py:205: ImportWarning: can't resolve package from __spec__ or __package__, falling back on __name__ and __path__\n",
      "/Users/brentjones/anaconda/envs/2019-06-26-hayden/lib/python3.6/importlib/_bootstrap.py:205: RuntimeWarning: numpy.ufunc size changed, may indicate binary incompatibility. Expected 216, got 192\n",
      "/Users/brentjones/anaconda/envs/2019-06-26-hayden/lib/python3.6/importlib/_bootstrap.py:205: RuntimeWarning: numpy.ufunc size changed, may indicate binary incompatibility. Expected 216, got 192\n",
      "/Users/brentjones/anaconda/envs/2019-06-26-hayden/lib/python3.6/importlib/_bootstrap.py:205: ImportWarning: can't resolve package from __spec__ or __package__, falling back on __name__ and __path__\n",
      "/Users/brentjones/anaconda/envs/2019-06-26-hayden/lib/python3.6/importlib/_bootstrap.py:205: ImportWarning: can't resolve package from __spec__ or __package__, falling back on __name__ and __path__\n",
      "/Users/brentjones/anaconda/envs/2019-06-26-hayden/lib/python3.6/importlib/_bootstrap.py:205: ImportWarning: can't resolve package from __spec__ or __package__, falling back on __name__ and __path__\n",
      "/Users/brentjones/anaconda/envs/2019-06-26-hayden/lib/python3.6/importlib/_bootstrap.py:205: ImportWarning: can't resolve package from __spec__ or __package__, falling back on __name__ and __path__\n",
      "/Users/brentjones/anaconda/envs/2019-06-26-hayden/lib/python3.6/importlib/_bootstrap.py:205: ImportWarning: can't resolve package from __spec__ or __package__, falling back on __name__ and __path__\n",
      "/Users/brentjones/anaconda/envs/2019-06-26-hayden/lib/python3.6/importlib/_bootstrap.py:205: ImportWarning: can't resolve package from __spec__ or __package__, falling back on __name__ and __path__\n",
      "/Users/brentjones/anaconda/envs/2019-06-26-hayden/lib/python3.6/importlib/_bootstrap.py:205: ImportWarning: can't resolve package from __spec__ or __package__, falling back on __name__ and __path__\n",
      "/Users/brentjones/anaconda/envs/2019-06-26-hayden/lib/python3.6/importlib/_bootstrap.py:205: ImportWarning: can't resolve package from __spec__ or __package__, falling back on __name__ and __path__\n",
      "/Users/brentjones/anaconda/envs/2019-06-26-hayden/lib/python3.6/importlib/_bootstrap.py:205: ImportWarning: can't resolve package from __spec__ or __package__, falling back on __name__ and __path__\n",
      "/Users/brentjones/anaconda/envs/2019-06-26-hayden/lib/python3.6/importlib/_bootstrap.py:205: ImportWarning: can't resolve package from __spec__ or __package__, falling back on __name__ and __path__\n",
      "/Users/brentjones/anaconda/envs/2019-06-26-hayden/lib/python3.6/importlib/_bootstrap.py:205: ImportWarning: can't resolve package from __spec__ or __package__, falling back on __name__ and __path__\n",
      "/Users/brentjones/anaconda/envs/2019-06-26-hayden/lib/python3.6/importlib/_bootstrap.py:205: ImportWarning: can't resolve package from __spec__ or __package__, falling back on __name__ and __path__\n",
      "/Users/brentjones/anaconda/envs/2019-06-26-hayden/lib/python3.6/importlib/_bootstrap.py:205: ImportWarning: can't resolve package from __spec__ or __package__, falling back on __name__ and __path__\n",
      "/Users/brentjones/anaconda/envs/2019-06-26-hayden/lib/python3.6/importlib/_bootstrap.py:205: ImportWarning: can't resolve package from __spec__ or __package__, falling back on __name__ and __path__\n",
      "/Users/brentjones/anaconda/envs/2019-06-26-hayden/lib/python3.6/importlib/_bootstrap.py:205: RuntimeWarning: numpy.ufunc size changed, may indicate binary incompatibility. Expected 216, got 192\n",
      "/Users/brentjones/anaconda/envs/2019-06-26-hayden/lib/python3.6/importlib/_bootstrap.py:205: ImportWarning: can't resolve package from __spec__ or __package__, falling back on __name__ and __path__\n",
      "/Users/brentjones/anaconda/envs/2019-06-26-hayden/lib/python3.6/importlib/_bootstrap.py:205: ImportWarning: can't resolve package from __spec__ or __package__, falling back on __name__ and __path__\n",
      "/Users/brentjones/anaconda/envs/2019-06-26-hayden/lib/python3.6/importlib/_bootstrap.py:205: ImportWarning: can't resolve package from __spec__ or __package__, falling back on __name__ and __path__\n",
      "/Users/brentjones/anaconda/envs/2019-06-26-hayden/lib/python3.6/importlib/_bootstrap.py:205: ImportWarning: can't resolve package from __spec__ or __package__, falling back on __name__ and __path__\n",
      "/Users/brentjones/anaconda/envs/2019-06-26-hayden/lib/python3.6/importlib/_bootstrap.py:205: ImportWarning: can't resolve package from __spec__ or __package__, falling back on __name__ and __path__\n",
      "/Users/brentjones/anaconda/envs/2019-06-26-hayden/lib/python3.6/importlib/_bootstrap.py:205: ImportWarning: can't resolve package from __spec__ or __package__, falling back on __name__ and __path__\n"
     ]
    },
    {
     "name": "stderr",
     "output_type": "stream",
     "text": [
      "/Users/brentjones/anaconda/envs/2019-06-26-hayden/lib/python3.6/importlib/_bootstrap.py:205: ImportWarning: can't resolve package from __spec__ or __package__, falling back on __name__ and __path__\n",
      "/Users/brentjones/anaconda/envs/2019-06-26-hayden/lib/python3.6/importlib/_bootstrap.py:205: ImportWarning: can't resolve package from __spec__ or __package__, falling back on __name__ and __path__\n",
      "/Users/brentjones/anaconda/envs/2019-06-26-hayden/lib/python3.6/importlib/_bootstrap.py:205: ImportWarning: can't resolve package from __spec__ or __package__, falling back on __name__ and __path__\n",
      "/Users/brentjones/anaconda/envs/2019-06-26-hayden/lib/python3.6/importlib/_bootstrap.py:205: ImportWarning: can't resolve package from __spec__ or __package__, falling back on __name__ and __path__\n",
      "/Users/brentjones/anaconda/envs/2019-06-26-hayden/lib/python3.6/importlib/_bootstrap.py:205: ImportWarning: can't resolve package from __spec__ or __package__, falling back on __name__ and __path__\n",
      "/Users/brentjones/anaconda/envs/2019-06-26-hayden/lib/python3.6/importlib/_bootstrap.py:205: ImportWarning: can't resolve package from __spec__ or __package__, falling back on __name__ and __path__\n",
      "/Users/brentjones/anaconda/envs/2019-06-26-hayden/lib/python3.6/importlib/_bootstrap.py:205: ImportWarning: can't resolve package from __spec__ or __package__, falling back on __name__ and __path__\n",
      "/Users/brentjones/anaconda/envs/2019-06-26-hayden/lib/python3.6/importlib/_bootstrap.py:205: ImportWarning: can't resolve package from __spec__ or __package__, falling back on __name__ and __path__\n",
      "/Users/brentjones/anaconda/envs/2019-06-26-hayden/lib/python3.6/importlib/_bootstrap.py:205: ImportWarning: can't resolve package from __spec__ or __package__, falling back on __name__ and __path__\n",
      "/Users/brentjones/anaconda/envs/2019-06-26-hayden/lib/python3.6/importlib/_bootstrap.py:205: ImportWarning: can't resolve package from __spec__ or __package__, falling back on __name__ and __path__\n"
     ]
    }
   ],
   "source": [
    "%matplotlib inline\n",
    "\n",
    "import os, shutil\n",
    "import agate\n",
    "from datetime import datetime\n",
    "from decimal import *\n",
    "from geojson import Feature, FeatureCollection, Point\n",
    "import geopandas as gpd, pandas as pd"
   ]
  },
  {
   "cell_type": "markdown",
   "metadata": {},
   "source": [
    "## Import previous csv\n",
    "\n",
    "In the import notebook, we created a csv with crime reports limited to the dates we're interested in and reprojected coordinates. First we need to import that data."
   ]
  },
  {
   "cell_type": "code",
   "execution_count": 2,
   "metadata": {},
   "outputs": [],
   "source": [
    "text_type = agate.Text()\n",
    "number_type = agate.Number()\n",
    "boolean_type = agate.Boolean()\n",
    "datetime_type = agate.DateTime()\n",
    "date_type = agate.Date()\n",
    "\n",
    "def import_latlon_table(file):\n",
    "    column_names = ['Complaint','CodedMonth','DateOccur','FlagCrime','FlagUnfounded','FlagAdministrative','Count','FlagCleanup','Crime','District','Description','ILEADSAddress','ILEADSStreet','Neighborhood','LocationName','LocationComment','CADAddress','CADStreet','XCoord','YCoord','coords','lat','lon']\n",
    "    column_types = [text_type,text_type,datetime_type,boolean_type,boolean_type,boolean_type,number_type,boolean_type,text_type,text_type,text_type,text_type,text_type,text_type,text_type,text_type,text_type,text_type,number_type,number_type,text_type,number_type,number_type]\n",
    "\n",
    "    new_table = agate.Table.from_csv(file,column_names,column_types)\n",
    "    return new_table\n",
    "\n",
    "splitLatLon = import_latlon_table('temp/with_lat_lon.csv')\n"
   ]
  },
  {
   "cell_type": "markdown",
   "metadata": {},
   "source": [
    "## Clean up the crime column\n",
    "\n",
    "The files were not exported consistently. Needing to analyze by crime, we need to make sure that column is consistent. It should be six digits long, and some of the codes would have a leading zero. Because it was treated as a number at some point before export, the leading zero has been dropped. There is also varying white space.\n",
    "\n",
    "Here we standardize this column to a string, strip any whitespace and add the leading zero back in where it was lost.\n",
    "\n",
    "It will also be useful to have a list of these codes and what they mean. So we can generate a list of unique codes and their descriptions, outputting that to a separate file."
   ]
  },
  {
   "cell_type": "code",
   "execution_count": 3,
   "metadata": {},
   "outputs": [],
   "source": [
    "class cleanCrime(agate.Computation):\n",
    "    def get_computed_data_type(self, table):\n",
    "        return agate.Text()\n",
    "    \n",
    "    def run(self, table):\n",
    "        new_column = []\n",
    "        \n",
    "        for index,row in enumerate(table.rows):\n",
    "            if len(row['Crime'].strip()) == 5:\n",
    "                new = '0' + row['Crime'].strip()\n",
    "                new_column.append(new)\n",
    "            else:\n",
    "                new_column.append(row['Crime'])\n",
    "                \n",
    "                \n",
    "        return new_column\n",
    "    \n",
    "cleaned = splitLatLon.compute([\n",
    "    ('cleanCrime', cleanCrime())\n",
    "])\n",
    "\n",
    "crime_lookup = cleaned.select(['cleanCrime', 'Description']).distinct('cleanCrime').order_by('cleanCrime')\n",
    "\n",
    "crime_lookup.to_csv('temp/crime_lookup.csv')"
   ]
  },
  {
   "cell_type": "markdown",
   "metadata": {},
   "source": [
    "## Are the coordinates ok?\n",
    "\n",
    "One of the biggest questions with this data is if the coordinates are accurate/usable for what we're doing. If, for example, all reports with unknown coordinates were given coordinates that matched police HQ, that would make using the coordinates for analysis more difficult.\n",
    "\n",
    "So, we can do some testing to see if we can rely on these.\n",
    "\n",
    "A few questions to answer:\n",
    "\n",
    "* How many rows don't have coordinates?\n",
    "* Of rows with coordinates, are there clusters where we might not expect them?\n",
    "* Of rows without coordinates, if there are addresses available, are there clusters?\n",
    "* Are particular crimes over- or under-represented in rows without coordinates?"
   ]
  },
  {
   "cell_type": "code",
   "execution_count": 4,
   "metadata": {
    "scrolled": false
   },
   "outputs": [
    {
     "name": "stdout",
     "output_type": "stream",
     "text": [
      "54,726 rows with coordinates out of 56,039 (97.7%). Here's how they're grouped:\n",
      "\n",
      "| fulladdress          | count | percent |\n",
      "| -------------------- | ----- | ------- |\n",
      "| 721 N TUCKER BLVD    |   195 |  0.356… |\n",
      "| 4255 HAMPTON AVE     |   170 |  0.311… |\n",
      "| 3430 S GRAND BLVD    |   162 |  0.296… |\n",
      "| 315 N 9TH ST         |   140 |  0.256… |\n",
      "| 999 N 2ND ST         |   125 |  0.228… |\n",
      "| 4949 BARNES JEWIS... |   116 |  0.212… |\n",
      "| 5750 NATURAL BRID... |   110 |  0.201… |\n",
      "| 4101 GRAVOIS AVE     |   109 |  0.199… |\n",
      "| 300 CARR ST          |   108 |  0.197… |\n",
      "| 1915 OLIVE ST        |    99 |  0.181… |\n",
      "| 3431 UNION BLVD      |    91 |  0.166… |\n",
      "| 932 LOUGHBOROUGH AVE |    89 |  0.163… |\n",
      "| 601 CLARK AVE        |    88 |  0.161… |\n",
      "| 1401 CLARK AVE       |    76 |  0.139… |\n",
      "| 200 S TUCKER BLVD    |    76 |  0.139… |\n",
      "| 1020 LOUGHBOROUGH... |    76 |  0.139… |\n",
      "| 6124 N BROADWAY      |    74 |  0.135… |\n",
      "| 4171 LINDELL BLVD    |    67 |  0.122… |\n",
      "| 3933 S BROADWAY      |    65 |  0.119… |\n",
      "| 2851 GRAVOIS AVE     |    63 |  0.115… |\n",
      "| ...                  |   ... |     ... |\n",
      "\n",
      "\n",
      "1,313 rows with coordinates out of 56,039 (2.3%). Here's how they're grouped:\n",
      "\n",
      "| fulladdress          | count | percent |\n",
      "| -------------------- | ----- | ------- |\n",
      "| 0 UNKNOWN            |    90 |  6.855… |\n",
      "|                      |    52 |  3.960… |\n",
      "| 700 CARR LANE DR     |    21 |  1.599… |\n",
      "| 3430 S GRAND         |    11 |  0.838… |\n",
      "| 6000 WELLS DR        |     7 |  0.533… |\n",
      "| 1100 WASHINGTON AVE  |     6 |  0.457… |\n",
      "| 1400 LOCUST ST       |     5 |  0.381… |\n",
      "| 700 N TUCKER BLVD    |     5 |  0.381… |\n",
      "| 1200 LOCUST ST       |     5 |  0.381… |\n",
      "| 2132 EDWARDS         |     4 |  0.305… |\n",
      "| 700 CARR LANE DR ... |     4 |  0.305… |\n",
      "| 3649 WILMINGTON      |     4 |  0.305… |\n",
      "| 5500 DELMAR BLVD     |     4 |  0.305… |\n",
      "| 3417 GRACE           |     4 |  0.305… |\n",
      "| 1400 CLARK AVE       |     4 |  0.305… |\n",
      "| 200 N 9TH ST         |     3 |  0.228… |\n",
      "| 3600 SCOTT AVE       |     3 |  0.228… |\n",
      "| 1200 WASHINGTON AVE  |     3 |  0.228… |\n",
      "| 4900 BARNES JEWIS... |     3 |  0.228… |\n",
      "| 721 N TUCKER         |     3 |  0.228… |\n",
      "| ...                  |   ... |     ... |\n"
     ]
    }
   ],
   "source": [
    "class concatAddress(agate.Computation):\n",
    "    def get_computed_data_type(self, table):\n",
    "        return agate.Text()\n",
    "    \n",
    "    def run(self, table):\n",
    "        new_column = []\n",
    "        \n",
    "        for index,row in enumerate(table.rows):\n",
    "#             if index % 100 == 0:\n",
    "#                 print('Row: {} of {}'.format(index,len(table)))\n",
    "            \n",
    "            if row['ILEADSAddress'] is not None and row['ILEADSStreet'] is not None:\n",
    "                new_column.append(row['ILEADSAddress'] + ' ' + row['ILEADSStreet'])\n",
    "            elif row['ILEADSAddress'] == 0 and row['ILEADSStreet'] == 'Unknown' and row['CADAddress'] is not None and row['CADStreet'] is not None:\n",
    "                new_column.append(row['CADAddress'] + ' ' + row['CADStreet'])\n",
    "            elif row['CADAddress'] is not None and row['CADStreet'] is not None:\n",
    "                new_column.append(row['CADAddress'] + ' ' + row['CADStreet'])\n",
    "            else:\n",
    "                new_column.append(None)\n",
    "                \n",
    "        return new_column\n",
    "    \n",
    "concatAddress2 = cleaned.compute([\n",
    "    ('fulladdress', concatAddress())\n",
    "])\n",
    "\n",
    "# See rows with coordinates, grouped by address\n",
    "addressGrouped = concatAddress2.where(lambda row: row['coords'] is not None).group_by('fulladdress')\n",
    "\n",
    "addressPct = addressGrouped.aggregate([\n",
    "    ('count',agate.Count()),\n",
    "])\n",
    "\n",
    "cur_len = len(concatAddress2.where(lambda row: row['coords'] is not None))\n",
    "total = len(concatAddress2)\n",
    "pct = cur_len / total\n",
    "\n",
    "print('{:,} rows with coordinates out of {:,} ({:.1f}%). Here\\'s how they\\'re grouped:\\n'.format(cur_len,total,(pct * 100)))\n",
    "\n",
    "addressPct.compute([\n",
    "   ('percent', agate.Percent('count'))\n",
    "]).order_by('count',reverse=True).print_table()\n",
    "\n",
    "\n",
    "# See rows without coordinates, grouped by address\n",
    "addressGrouped = concatAddress2.where(lambda row: row['coords'] is None).group_by('fulladdress')\n",
    "\n",
    "addressPct = addressGrouped.aggregate([\n",
    "    ('count',agate.Count()),\n",
    "])\n",
    "\n",
    "cur_len = len(concatAddress2.where(lambda row: row['coords'] is None))\n",
    "total = len(concatAddress2)\n",
    "pct = cur_len / total\n",
    "\n",
    "print('\\n\\n{:,} rows with coordinates out of {:,} ({:.1f}%). Here\\'s how they\\'re grouped:\\n'.format(cur_len,total,(pct * 100)))\n",
    "\n",
    "addressPct.compute([\n",
    "   ('percent', agate.Percent('count'))\n",
    "]).order_by('count',reverse=True).print_table()"
   ]
  },
  {
   "cell_type": "markdown",
   "metadata": {},
   "source": [
    "97.7 percent of the rows have coordinates. And of those that do, they're clustered in places that might be expected — a gas station, department store and grocery store are the top three. This indicates that there probably isn't a mass of crimes being given incorrect coordinates.\n",
    "\n",
    "2.3 percent of the crimes have no coordinates. Of those, more than 10 percent don't have addresses. Of the ones that have addresses, there again aren't large clusters."
   ]
  },
  {
   "cell_type": "markdown",
   "metadata": {},
   "source": [
    "Finally, we want to see if crimes with missing coordinates cluster by any particular crime types."
   ]
  },
  {
   "cell_type": "code",
   "execution_count": 5,
   "metadata": {},
   "outputs": [
    {
     "name": "stdout",
     "output_type": "stream",
     "text": [
      "*** All crimes ***\n",
      "\n",
      "| cleanCrime | crimes_count | percent | Description                                  |\n",
      "| ---------- | ------------ | ------- | -------------------------------------------- |\n",
      "| 265321     |        6,819 | 12.168… | LEAVING SCENE OF ACCIDENT                    |\n",
      "| 142320     |        4,328 |  7.723… | DESTRUCTION OF PROPERTY-MALICIOUS/PRIV PROP  |\n",
      "| 065701     |        2,638 |  4.707… | LARCENY-MTR VEH PARTS UNDER $500             |\n",
      "| 064701     |        2,380 |  4.247… | LARCENY-FROM MTR VEH UNDER $500              |\n",
      "| 071013     |        2,033 |  3.628… | AUTO THEFT-PERM RETNT/UNRECOV OVER 48HR      |\n",
      "| 266999     |        1,955 |  3.489… | PUBLIC ORDER-OTHR UNSPC PBLC ORDER VIOLATION |\n",
      "| 041011     |        1,745 |  3.114… | AGG.ASSAULT-FIREARM/CITIZEN ADULT 1ST DEGREE |\n",
      "| 064601     |        1,705 |  3.043… | LARCENY-FROM MTR VEH $500 - $24,999          |\n",
      "| 091113     |        1,692 |  3.019… | SIMPLE ASSAULT-ADULT/NO INJURY               |\n",
      "| 091114     |        1,576 |  2.812… | ASSAULT, ADULT, AGE 17 AND UP-DOMESTIC       |\n",
      "| 067701     |        1,557 |  2.778… | LARCENY-FROM BUILDING UNDER $500             |\n",
      "| 063701     |        1,349 |  2.407… | LARCENY-SHOPLIFT UNDER $500                  |\n",
      "| 250000     |        1,346 |  2.402… | LOITERING-BEGGING                            |\n",
      "| 069702     |        1,312 |  2.341… | LARCENY-ALL OTHER UNDER $500                 |\n",
      "| 241100     |        1,034 |  1.845… | DISORDERLY CONDUCT-PEACE DSTRB/INDIVIDUAL    |\n",
      "| 266510     |          947 |  1.690… | PUBLIC ORDER-TRESPASSING                     |\n",
      "| 067601     |          928 |  1.656… | LARCENY-FROM BUILDING $500 - $24,999         |\n",
      "| 051312     |          788 |  1.406… | BURGLARY-RESDNCE/UNK TIM/FORC ENT/UNOCCUPIED |\n",
      "| 071030     |          756 |  1.349… | AUTO THEFT-PERM RETNT/JOY RIDE               |\n",
      "| 064711     |          725 |  1.294… | LARCENY-FROM MTR VEH UNDER $500  /ATTEMPT    |\n",
      "| ...        |          ... |     ... | ...                                          |\n",
      "\n",
      "\n",
      "\n",
      "*** Crimes with no coordinates ***\n",
      "\n",
      "| cleanCrime | crimes_count | percent | Description                                  |\n",
      "| ---------- | ------------ | ------- | -------------------------------------------- |\n",
      "| 021000     |          240 | 18.279… | RAPE -- FORCIBLE                             |\n",
      "| 178200     |          143 | 10.891… | SEX OFFNS-EXPOSURE/EXPOSING PERSON           |\n",
      "| 071013     |           69 |  5.255… | AUTO THEFT-PERM RETNT/UNRECOV OVER 48HR      |\n",
      "| 265321     |           67 |  5.103… | LEAVING SCENE OF ACCIDENT                    |\n",
      "| 175400     |           55 |  4.189… | SEX OFFNS-SX MISCONDUCT/SECOND               |\n",
      "| 266999     |           47 |  3.580… | PUBLIC ORDER-OTHR UNSPC PBLC ORDER VIOLATION |\n",
      "| 065701     |           41 |  3.123… | LARCENY-MTR VEH PARTS UNDER $500             |\n",
      "| 041011     |           38 |  2.894… | AGG.ASSAULT-FIREARM/CITIZEN ADULT 1ST DEGREE |\n",
      "| 064701     |           37 |  2.818… | LARCENY-FROM MTR VEH UNDER $500              |\n",
      "| 064601     |           22 |  1.676… | LARCENY-FROM MTR VEH $500 - $24,999          |\n",
      "| 178100     |           21 |  1.599… | SEX OFFNS-EXPOSURE/LEWD&LACIV ACT            |\n",
      "| 067601     |           21 |  1.599… | LARCENY-FROM BUILDING $500 - $24,999         |\n",
      "| 071030     |           20 |  1.523… | AUTO THEFT-PERM RETNT/JOY RIDE               |\n",
      "| 142320     |           19 |  1.447… | DESTRUCTION OF PROPERTY-MALICIOUS/PRIV PROP  |\n",
      "| 175500     |           19 |  1.447… | SEX OFFNS-SX MISCONDUCT/FIRST                |\n",
      "| 091114     |           19 |  1.447… | ASSAULT, ADULT, AGE 17 AND UP-DOMESTIC       |\n",
      "| 023000     |           18 |  1.371… | RAPE-ATTEMPT FORCIBLE RAPE/FORCIBLE INCEST   |\n",
      "| 250000     |           16 |  1.219… | LOITERING-BEGGING                            |\n",
      "| 263120     |           16 |  1.219… | OBSTRUCT GOVRN OP-FALSE REPORT               |\n",
      "| 091113     |           15 |  1.142… | SIMPLE ASSAULT-ADULT/NO INJURY               |\n",
      "| ...        |          ... |     ... | ...                                          |\n"
     ]
    }
   ],
   "source": [
    "crimesGrouped = cleaned.group_by('cleanCrime')\n",
    "\n",
    "countCrimes = crimesGrouped.aggregate([\n",
    "    ('crimes_count', agate.Count())\n",
    "])\n",
    "\n",
    "count_w_percent = countCrimes.compute([\n",
    "    ('percent',agate.Percent('crimes_count'))\n",
    "])\n",
    "\n",
    "print('*** All crimes ***\\n')\n",
    "count_w_percent.order_by('crimes_count', reverse=True).join(crime_lookup,'cleanCrime','cleanCrime').print_table(max_column_width=None)\n",
    "\n",
    "crimesGrouped = cleaned.where(lambda row: row['coords'] is None).group_by('cleanCrime')\n",
    "\n",
    "countCrimes = crimesGrouped.aggregate([\n",
    "    ('crimes_count', agate.Count())\n",
    "])\n",
    "\n",
    "count_w_percent = countCrimes.compute([\n",
    "    ('percent',agate.Percent('crimes_count'))\n",
    "])\n",
    "\n",
    "print('\\n\\n\\n*** Crimes with no coordinates ***\\n')\n",
    "count_w_percent.order_by('crimes_count',reverse=True).join(crime_lookup,'cleanCrime','cleanCrime').print_table(max_column_width=None)"
   ]
  },
  {
   "cell_type": "markdown",
   "metadata": {},
   "source": [
    "Crimes with no coordinates do differ from crimes with coordinates in that there are no coordinates for sex crimes. This seems likely to be intentional."
   ]
  },
  {
   "cell_type": "markdown",
   "metadata": {},
   "source": [
    "## Missing geocode results summary\n",
    "\n",
    "We can see that of the 56,000 total rows between January and May across all three years, only 1,313 don't have any coordinates associated with them. That's just over 2 percent. Additionally we can see that the coordinates that do exist are likely accurate in most cases, as the locations are businesses where it would make sense to have many reports. Where coordinates don't exist but addresses do, there are no large clusters of crimes at a particular address. Reports without coordinates differ from reports with coordinates — more than 18 percent of crimes without coordinates were reports of rape. These 240 rows represent .4 percent of all the rows.\n",
    "\n",
    "Finally, it's worth noting that these numbers are the maximum possible, as so far we're counting rows. Because of the way the data is structured, a crime may be listed on a row, but not included in the final count (e.g. if it was later classed as unfounded). Therefore, there is a _maximum_ of 1,313 crimes missing coordinates, but it's likely fewer (note that the percentage of crimes missing coordinates might be higher or lower though).\n",
    "\n",
    "We make the decision to proceed with reports that have coordinates in the original data. Greater accuracy could be gained by geocoding addresses for rows that do not have coordinates."
   ]
  },
  {
   "cell_type": "markdown",
   "metadata": {},
   "source": [
    "## Geoprocessing\n",
    "\n",
    "Now we need to find out how many crimes appeared inside and outside the rectangle.\n",
    "\n",
    "First, we generate a geojson file of all the rows with coordinates. This will include the date, the crime type and the count field."
   ]
  },
  {
   "cell_type": "code",
   "execution_count": 6,
   "metadata": {},
   "outputs": [],
   "source": [
    "features = []\n",
    "for row in cleaned.rows:\n",
    "    if row['lat']:\n",
    "        lat, lon = map(float, (row['lat'], row['lon']))\n",
    "        features.append(\n",
    "            Feature(\n",
    "                geometry = Point((lon, lat)),\n",
    "                properties = {\n",
    "                    'date': str(row['DateOccur']),\n",
    "                    'crime': str(row['cleanCrime']),\n",
    "                    'count': int(row['Count'])\n",
    "                }\n",
    "            )\n",
    "        )\n",
    " \n",
    "collection = FeatureCollection(features)\n",
    "\n",
    "with open('temp/crimes_geojson.json', 'w') as f:\n",
    "    f.write('%s' % collection)"
   ]
  },
  {
   "cell_type": "markdown",
   "metadata": {},
   "source": [
    "Next, load the geojson into geopandas and make sure it looks reasonable."
   ]
  },
  {
   "cell_type": "code",
   "execution_count": 7,
   "metadata": {},
   "outputs": [
    {
     "data": {
      "text/plain": [
       "<matplotlib.axes._subplots.AxesSubplot at 0x7fdfdae77e10>"
      ]
     },
     "execution_count": 7,
     "metadata": {},
     "output_type": "execute_result"
    },
    {
     "data": {
      "image/png": "[encoded data removed]",
      "text/plain": [
       "<Figure size 432x288 with 1 Axes>"
      ]
     },
     "metadata": {
      "needs_background": "light"
     },
     "output_type": "display_data"
    }
   ],
   "source": [
    "all_crimes = gpd.read_file('temp/crimes_geojson.json')\n",
    "\n",
    "all_crimes['count'] = all_crimes['count'].astype('int')\n",
    "all_crimes['date'] = pd.to_datetime(all_crimes['date'])\n",
    "\n",
    "all_crimes['crime_type'] = all_crimes.crime.str[:2]\n",
    "\n",
    "all_crimes.plot()"
   ]
  },
  {
   "cell_type": "markdown",
   "metadata": {},
   "source": [
    "There are crimes that have been given coordinates outside of St. Louis. It's a small number, and it may be intentional.\n",
    "\n",
    "Now we'll load in the SLMPD concentration areas."
   ]
  },
  {
   "cell_type": "code",
   "execution_count": 8,
   "metadata": {},
   "outputs": [
    {
     "data": {
      "text/plain": [
       "<matplotlib.axes._subplots.AxesSubplot at 0x7fdfdaf703c8>"
      ]
     },
     "execution_count": 8,
     "metadata": {},
     "output_type": "execute_result"
    },
    {
     "data": {
      "image/png": "[encoded data removed]",
      "text/plain": [
       "<Figure size 432x288 with 1 Axes>"
      ]
     },
     "metadata": {
      "needs_background": "light"
     },
     "output_type": "display_data"
    }
   ],
   "source": [
    "crime_areas = gpd.read_file('crime_areas.json')\n",
    "crime_areas.plot()"
   ]
  },
  {
   "cell_type": "markdown",
   "metadata": {},
   "source": [
    "That file includes the original rectangle as well as two new areas of concentration, so we'll drop the other two. We also need to buffer the shape, as I originally drew it just inside the street boundaries. We'll also save that as a geojson file, in case it's helpful later."
   ]
  },
  {
   "cell_type": "code",
   "execution_count": 9,
   "metadata": {},
   "outputs": [
    {
     "data": {
      "image/png": "[encoded data removed]",
      "text/plain": [
       "<Figure size 432x288 with 1 Axes>"
      ]
     },
     "metadata": {
      "needs_background": "light"
     },
     "output_type": "display_data"
    }
   ],
   "source": [
    "hayden = crime_areas.drop([1,2], axis=0)\n",
    "buffer = hayden.buffer(.0014)\n",
    "\n",
    "buffer.plot()\n",
    "\n",
    "buffer.to_file(\"temp/hayden-buffered.geojson\",driver='GeoJSON')"
   ]
  },
  {
   "cell_type": "markdown",
   "metadata": {},
   "source": [
    "This buffered area extends slightly beyond the boundaries of the streets that border the rectangle."
   ]
  },
  {
   "cell_type": "markdown",
   "metadata": {},
   "source": [
    "## Find out which crimes were reported inside the rectangle\n",
    "\n",
    "This code adds a boolean column for whether the crime occurred inside the rectangle or not."
   ]
  },
  {
   "cell_type": "code",
   "execution_count": 10,
   "metadata": {},
   "outputs": [],
   "source": [
    "in_hayden = all_crimes.intersects(buffer.unary_union)\n",
    "\n",
    "crimes_in_hayden = all_crimes.copy()\n",
    "\n",
    "crimes_in_hayden.insert(0,'in_hayden',in_hayden)\n",
    "\n",
    "crimes_in_hayden.to_csv('temp/out.csv')"
   ]
  },
  {
   "cell_type": "markdown",
   "metadata": {},
   "source": [
    "We save the data as a csv and re-import it to agate, because I'm more comfortable working inagate than pandas."
   ]
  },
  {
   "cell_type": "code",
   "execution_count": 11,
   "metadata": {},
   "outputs": [],
   "source": [
    "def import_geocoded_crimes(file):\n",
    "    column_names = ['index','in_rectangle','count','crime','date','geometry','crime_category']\n",
    "    column_types = [number_type,boolean_type,number_type,text_type,datetime_type,text_type,text_type]\n",
    "\n",
    "    new_table = agate.Table.from_csv(file,column_names,column_types)\n",
    "    return new_table.select(['in_rectangle','count','crime','date','geometry','crime_category'])\n",
    "\n",
    "geocoded = import_geocoded_crimes('temp/out.csv')"
   ]
  },
  {
   "cell_type": "code",
   "execution_count": 12,
   "metadata": {},
   "outputs": [
    {
     "name": "stdout",
     "output_type": "stream",
     "text": [
      "| in_rectangle | count | crime  |                date | geometry             | crime_category |\n",
      "| ------------ | ----- | ------ | ------------------- | -------------------- | -------------- |\n",
      "|        False |     1 | 142320 | 2017-01-01 00:01:00 | POINT (-90.216280... | 14             |\n",
      "|        False |     1 | 091114 | 2017-01-01 00:01:00 | POINT (-90.225544... | 09             |\n",
      "|        False |     1 | 142320 | 2017-01-01 00:01:00 | POINT (-90.207375... | 14             |\n",
      "|        False |     1 | 071030 | 2017-01-01 00:01:00 | POINT (-90.220741... | 07             |\n",
      "|        False |     1 | 067601 | 2017-01-01 00:01:00 | POINT (-90.250133... | 06             |\n",
      "|        False |     1 | 071013 | 2017-01-01 00:01:00 | POINT (-90.214193... | 07             |\n",
      "|        False |     1 | 265321 | 2017-01-01 00:05:00 | POINT (-90.230171... | 26             |\n",
      "|         True |     1 | 142320 | 2017-01-01 00:05:00 | POINT (-90.233964... | 14             |\n",
      "|        False |     1 | 152200 | 2017-01-01 00:05:00 | POINT (-90.259531... | 15             |\n",
      "|        False |     1 | 142320 | 2017-01-01 00:15:00 | POINT (-90.256200... | 14             |\n",
      "|        False |     1 | 142320 | 2017-01-01 00:15:00 | POINT (-90.288134... | 14             |\n",
      "|         True |     1 | 265321 | 2017-01-01 00:30:00 | POINT (-90.225952... | 26             |\n",
      "|         True |     1 | 142320 | 2017-01-01 00:30:00 | POINT (-90.236141... | 14             |\n",
      "|        False |     1 | 142320 | 2017-01-01 00:30:00 | POINT (-90.253728... | 14             |\n",
      "|        False |     1 | 265321 | 2017-01-01 00:38:00 | POINT (-90.200218... | 26             |\n",
      "|        False |     1 | 142320 | 2017-01-01 00:40:00 | POINT (-90.278575... | 14             |\n",
      "|        False |     1 | 091113 | 2017-01-01 00:50:00 | POINT (-90.240472... | 09             |\n",
      "|        False |     1 | 067601 | 2017-01-01 01:00:00 | POINT (-90.197374... | 06             |\n",
      "|        False |     1 | 142320 | 2017-01-01 01:00:00 | POINT (-90.231694... | 14             |\n",
      "|        False |     1 | 071030 | 2017-01-01 01:00:00 | POINT (-90.287003... | 07             |\n",
      "|          ... |   ... | ...    |                 ... | ...                  | ...            |\n"
     ]
    }
   ],
   "source": [
    "geocoded.print_table()"
   ]
  },
  {
   "cell_type": "markdown",
   "metadata": {},
   "source": [
    "## Analysis\n",
    "\n",
    "Next we want to get a broad overview of crimes by year and in/out of the rectangle."
   ]
  },
  {
   "cell_type": "code",
   "execution_count": 16,
   "metadata": {},
   "outputs": [
    {
     "name": "stdout",
     "output_type": "stream",
     "text": [
      "*** All crimes ***\n",
      "\n",
      "| in_rectangle |   2017 |   2018 | 17-18 %Change |   2019 | 18-19 %Change |\n",
      "| ------------ | ------ | ------ | ------------- | ------ | ------------- |\n",
      "| False        | 16,108 | 14,742 |         -8.48 | 14,230 |         -3.47 |\n",
      "| True         |  3,027 |  2,944 |         -2.74 |  2,905 |         -1.32 |\n",
      "| Total        | 19,135 | 17,686 |         -7.57 | 17,135 |         -3.12 |\n"
     ]
    }
   ],
   "source": [
    "add_year = geocoded.compute([\n",
    "    ('year', agate.Formula(text_type, lambda r: r['date'].year))\n",
    "])\n",
    "\n",
    "grouped = add_year.group_by('year').group_by('in_rectangle')\n",
    "\n",
    "def pct_chg(row,year1,year2):\n",
    "    return ((row[year2] - row[year1]) / row[year1]).quantize(Decimal('0.01'))\n",
    "\n",
    "overview = grouped.aggregate([\n",
    "    ('total',agate.Sum('count'))\n",
    "]).pivot('in_rectangle','year', aggregation=agate.Sum('total')).compute([\n",
    "    ('17-18 %Change', agate.PercentChange('2017','2018')),\n",
    "    ('18-19 %Change', agate.PercentChange('2018','2019'))\n",
    "]).compute([\n",
    "    ('in_rectangle', agate.Formula(text_type, lambda r: str(r['in_rectangle'])))\n",
    "], replace=True).select(['in_rectangle','2017','2018','17-18 %Change','2019','18-19 %Change'])\n",
    "\n",
    "totals = overview.aggregate([\n",
    "    ('2017', agate.Sum('2017')),\n",
    "    ('2018', agate.Sum('2018')),\n",
    "    ('2019', agate.Sum('2019'))\n",
    "])\n",
    "\n",
    "totals_table = {'in_rectangle':'Total'}\n",
    "for key,value in totals.items():\n",
    "    totals_table[key] = value\n",
    "    \n",
    "totals_row = agate.Table.from_object([totals_table]).compute([\n",
    "    ('17-18 %Change', agate.PercentChange('2017','2018')),\n",
    "    ('18-19 %Change', agate.PercentChange('2018','2019'))\n",
    "]).select(['in_rectangle','2017','2018','17-18 %Change','2019','18-19 %Change'])\n",
    "\n",
    "print('*** All crimes ***\\n')\n",
    "\n",
    "agate.Table.merge([overview,totals_row]).compute([\n",
    "    ('17-18 %Change', agate.Formula(number_type, lambda r: r['17-18 %Change'].quantize(Decimal('0.01')))),\n",
    "    ('18-19 %Change', agate.Formula(number_type, lambda r: r['18-19 %Change'].quantize(Decimal('0.01'))))\n",
    "], replace=True).print_table()"
   ]
  },
  {
   "cell_type": "markdown",
   "metadata": {},
   "source": [
    "We can see the overall number of crimes dropped about 7.6 percent between 2017-2018, and another 3.1 percent between 2018-2019. That drop in crime was largely outside the rectangle."
   ]
  },
  {
   "cell_type": "code",
   "execution_count": 17,
   "metadata": {},
   "outputs": [
    {
     "name": "stdout",
     "output_type": "stream",
     "text": [
      "*** Violent crimes ***\n",
      "\n",
      "| in_rectangle |  2017 |  2018 | 17-18 %Change |  2019 | 18-19 %Change |\n",
      "| ------------ | ----- | ----- | ------------- | ----- | ------------- |\n",
      "| False        | 1,282 | 1,131 |        -11.78 | 1,154 |          2.03 |\n",
      "| True         |   426 |   402 |         -5.63 |   372 |         -7.46 |\n",
      "| Total        | 1,708 | 1,533 |        -10.25 | 1,526 |         -0.46 |\n"
     ]
    }
   ],
   "source": [
    "agg_assault_w_firearm = [\"041011\",\"041012\",\"041013\",\"041014\",\"041015\",\"041016\",\"041021\",\"041022\",\"041023\",\"041024\",\"041025\",\"041026\",\"041101\",\"041201\",\"041202\",\"041203\"]\n",
    "\n",
    "# If all robberies should count as violent crimes, use this row instead.\n",
    "violent = add_year.where(lambda row: row['crime'] in agg_assault_w_firearm or row['crime_category'] in ['01','03'])\n",
    "\n",
    "grouped = violent.group_by('year').group_by('in_rectangle')\n",
    "\n",
    "overview = grouped.aggregate([\n",
    "    ('total',agate.Sum('count'))\n",
    "]).pivot('in_rectangle','year', aggregation=agate.Sum('total')).compute([\n",
    "    ('17-18 %Change', agate.PercentChange('2017','2018')),\n",
    "    ('18-19 %Change', agate.PercentChange('2018','2019'))\n",
    "]).compute([\n",
    "    ('in_rectangle', agate.Formula(text_type, lambda r: str(r['in_rectangle'])))\n",
    "], replace=True).select(['in_rectangle','2017','2018','17-18 %Change','2019','18-19 %Change'])\n",
    "\n",
    "totals = overview.aggregate([\n",
    "    ('2017', agate.Sum('2017')),\n",
    "    ('2018', agate.Sum('2018')),\n",
    "    ('2019', agate.Sum('2019'))\n",
    "])\n",
    "\n",
    "totals_table = {'in_rectangle':'Total'}\n",
    "for key,value in totals.items():\n",
    "    totals_table[key] = value\n",
    "    \n",
    "totals_row = agate.Table.from_object([totals_table]).compute([\n",
    "    ('17-18 %Change', agate.PercentChange('2017','2018')),\n",
    "    ('18-19 %Change', agate.PercentChange('2018','2019'))\n",
    "]).select(['in_rectangle','2017','2018','17-18 %Change','2019','18-19 %Change'])\n",
    "\n",
    "print('*** Violent crimes ***\\n')\n",
    "\n",
    "agate.Table.merge([overview,totals_row]).compute([\n",
    "    ('17-18 %Change', agate.Formula(number_type, lambda r: r['17-18 %Change'].quantize(Decimal('0.01')))),\n",
    "    ('18-19 %Change', agate.Formula(number_type, lambda r: r['18-19 %Change'].quantize(Decimal('0.01'))))\n",
    "], replace=True).print_table()"
   ]
  },
  {
   "cell_type": "markdown",
   "metadata": {},
   "source": [
    "Just looking at violent crimes, we can see that they dropped more outside the rectangle in 2017-18, but in 2018-19, they dropped by nearly 9 percent inside the rectangle, and rose outside it."
   ]
  },
  {
   "cell_type": "code",
   "execution_count": 19,
   "metadata": {},
   "outputs": [
    {
     "name": "stdout",
     "output_type": "stream",
     "text": [
      "*** Violent crimes ***\n",
      "\n",
      "*** Not in rectangle ***\n",
      "\n",
      "| crime_category          | 2017 | 2018 | 17-18 %Change | 2019 | 18-19 %Change |\n",
      "| ----------------------- | ---- | ---- | ------------- | ---- | ------------- |\n",
      "| Homicide                |   40 |   40 |          0.00 |   43 |          7.50 |\n",
      "| Robbery                 |  536 |  409 |        -23.69 |  442 |          8.07 |\n",
      "| Agg. Assault w/ firearm |  706 |  682 |         -3.40 |  669 |         -1.91 |\n",
      "\n",
      "\n",
      "*** In rectangle ***\n",
      "\n",
      "| crime_category          | 2017 | 2018 | 17-18 %Change | 2019 | 18-19 %Change |\n",
      "| ----------------------- | ---- | ---- | ------------- | ---- | ------------- |\n",
      "| Homicide                |   25 |   25 |          0.00 |   23 |         -8.00 |\n",
      "| Robbery                 |   94 |   91 |         -3.19 |   94 |          3.30 |\n",
      "| Agg. Assault w/ firearm |  307 |  286 |         -6.84 |  255 |        -10.84 |\n"
     ]
    }
   ],
   "source": [
    "lookup = {'01': 'Homicide', '03': 'Robbery', '04': 'Agg. Assault w/ firearm'}\n",
    "\n",
    "grouped = violent.group_by('year').group_by('in_rectangle').group_by('crime_category')\n",
    "\n",
    "print('*** Violent crimes ***\\n\\n*** Not in rectangle ***\\n')\n",
    "\n",
    "grouped.aggregate([\n",
    "    ('total',agate.Sum('count'))\n",
    "]).where(lambda row:row['in_rectangle'] == False).pivot('crime_category','year',aggregation=agate.Sum('total'))\\\n",
    ".order_by('crime_category').compute([\n",
    "    ('17-18 %Change', agate.PercentChange('2017','2018')),\n",
    "    ('18-19 %Change', agate.PercentChange('2018','2019'))\n",
    "]).compute([\n",
    "    ('crime_category', agate.Formula(text_type, lambda r: lookup[r['crime_category']]))\n",
    "], replace=True).compute([\n",
    "    ('17-18 %Change', agate.Formula(number_type, lambda r: r['17-18 %Change'].quantize(Decimal('0.01')))),\n",
    "    ('18-19 %Change', agate.Formula(number_type, lambda r: r['18-19 %Change'].quantize(Decimal('0.01'))))\n",
    "], replace=True).select(['crime_category','2017','2018','17-18 %Change','2019','18-19 %Change']).print_table(max_column_width=None)\n",
    "\n",
    "print('\\n\\n*** In rectangle ***\\n')\n",
    "\n",
    "grouped.aggregate([\n",
    "    ('total',agate.Sum('count'))\n",
    "]).where(lambda row:row['in_rectangle'] == True).pivot('crime_category','year',aggregation=agate.Sum('total'))\\\n",
    ".order_by('crime_category').compute([\n",
    "    ('17-18 %Change', agate.PercentChange('2017','2018')),\n",
    "    ('18-19 %Change', agate.PercentChange('2018','2019'))\n",
    "]).compute([\n",
    "    ('crime_category', agate.Formula(text_type, lambda r: lookup[r['crime_category']]))\n",
    "], replace=True).compute([\n",
    "    ('17-18 %Change', agate.Formula(number_type, lambda r: r['17-18 %Change'].quantize(Decimal('0.01')))),\n",
    "    ('18-19 %Change', agate.Formula(number_type, lambda r: r['18-19 %Change'].quantize(Decimal('0.01'))))\n",
    "], replace=True).select(['crime_category','2017','2018','17-18 %Change','2019','18-19 %Change']).print_table(max_column_width=None)"
   ]
  },
  {
   "cell_type": "markdown",
   "metadata": {},
   "source": [
    "Outside the rectangle, homicides increased slightly. Robberies declined in 2018 but increased again in 2019. And agg. assault with a firearm decreased slightly both years.\n",
    "\n",
    "Inside the rectangle, homicides decreased slightly. Robberies remained steady. Aggravated assault with a firearm declined in both years."
   ]
  }
 ],
 "metadata": {
  "kernelspec": {
   "display_name": "Python 3",
   "language": "python",
   "name": "python3"
  },
  "language_info": {
   "codemirror_mode": {
    "name": "ipython",
    "version": 3
   },
   "file_extension": ".py",
   "mimetype": "text/x-python",
   "name": "python",
   "nbconvert_exporter": "python",
   "pygments_lexer": "ipython3",
   "version": "3.6.2"
  }
 },
 "nbformat": 4,
 "nbformat_minor": 2
}
